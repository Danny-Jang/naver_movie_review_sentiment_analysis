{
  "nbformat": 4,
  "nbformat_minor": 0,
  "metadata": {
    "colab": {
      "name": "Naver movie review sentiment analysis  RNN 정리",
      "provenance": [],
      "collapsed_sections": [],
      "include_colab_link": true
    },
    "kernelspec": {
      "name": "python3",
      "display_name": "Python 3"
    },
    "accelerator": "GPU"
  },
  "cells": [
    {
      "cell_type": "markdown",
      "metadata": {
        "id": "view-in-github",
        "colab_type": "text"
      },
      "source": [
        "<a href=\"https://colab.research.google.com/github/Danny-Jang/naver_movie_review_sentiment_analysis/blob/master/Mecab_custom_embedding_vector_RNN.ipynb\" target=\"_parent\"><img src=\"https://colab.research.google.com/assets/colab-badge.svg\" alt=\"Open In Colab\"/></a>"
      ]
    },
    {
      "cell_type": "code",
      "metadata": {
        "id": "1J9luyKDp5aH",
        "colab_type": "code",
        "colab": {}
      },
      "source": [
        "from google.colab import drive\n",
        "drive.mount('/content/gdrive')"
      ],
      "execution_count": 0,
      "outputs": []
    },
    {
      "cell_type": "markdown",
      "metadata": {
        "id": "ZwgAI3aNLb_k",
        "colab_type": "text"
      },
      "source": [
        "## install konlpy library"
      ]
    },
    {
      "cell_type": "code",
      "metadata": {
        "id": "9gqwqppQaVqg",
        "colab_type": "code",
        "colab": {}
      },
      "source": [
        "!pip install konlpy\n"
      ],
      "execution_count": 0,
      "outputs": []
    },
    {
      "cell_type": "markdown",
      "metadata": {
        "id": "wFIapCivLg9m",
        "colab_type": "text"
      },
      "source": [
        "## install jdk and install JPype1-py3\n",
        "\n",
        "oracle jdk 설치 무방"
      ]
    },
    {
      "cell_type": "code",
      "metadata": {
        "id": "KlWrdMWqai9C",
        "colab_type": "code",
        "colab": {}
      },
      "source": [
        "!apt-get install openjdk-8-jdk-headless -qq > /dev/null\n",
        "!pip3 install JPype1-py3\n",
        "\n"
      ],
      "execution_count": 0,
      "outputs": []
    },
    {
      "cell_type": "markdown",
      "metadata": {
        "id": "HLROadTzQ0Wt",
        "colab_type": "text"
      },
      "source": [
        "## mecab-ko 설치\n",
        "[mecab 설치 문서](https://bitbucket.org/eunjeon/mecab-ko)"
      ]
    },
    {
      "cell_type": "code",
      "metadata": {
        "id": "Tz9LpOyzeAQq",
        "colab_type": "code",
        "colab": {}
      },
      "source": [
        "import os\n",
        "os.chdir('/tmp/')\n",
        "!curl -LO https://bitbucket.org/eunjeon/mecab-ko/downloads/mecab-0.996-ko-0.9.1.tar.gz\n",
        "!tar zxfv mecab-0.996-ko-0.9.1.tar.gz\n",
        "os.chdir('/tmp/mecab-0.996-ko-0.9.1')\n",
        "!./configure\n",
        "!make\n",
        "!make check\n",
        "!make install\n",
        "\n"
      ],
      "execution_count": 0,
      "outputs": []
    },
    {
      "cell_type": "markdown",
      "metadata": {
        "id": "p-2F0QsIRNhE",
        "colab_type": "text"
      },
      "source": [
        "## automake 설치"
      ]
    },
    {
      "cell_type": "code",
      "metadata": {
        "id": "bR4P6WDcwU_3",
        "colab_type": "code",
        "colab": {}
      },
      "source": [
        "\n",
        "os.chdir('/tmp')\n",
        "!curl -LO http://ftpmirror.gnu.org/automake/automake-1.11.tar.gz\n",
        "!tar -zxvf automake-1.11.tar.gz\n",
        "os.chdir('/tmp/automake-1.11')\n",
        "!./configure\n",
        "!make\n",
        "!make install\n"
      ],
      "execution_count": 0,
      "outputs": []
    },
    {
      "cell_type": "markdown",
      "metadata": {
        "id": "MweNrnJUjS21",
        "colab_type": "text"
      },
      "source": [
        "    Please make sure it is installed and in your PATH.\n",
        "make: *** No targets specified and no makefile found.  Stop.\n",
        "make: *** No rule to make target 'install'.  Stop. \n",
        "위 문구가 나오면 실패 \n",
        "automake install error를 실행\n",
        "\n",
        "\n",
        "\n",
        "make[2]: Leaving directory '/tmp/automake-1.11/tests'\n",
        "make[1]: Leaving directory '/tmp/automake-1.11/tests'\n",
        "이 나오면 성공"
      ]
    },
    {
      "cell_type": "markdown",
      "metadata": {
        "id": "jhznoGrySKm8",
        "colab_type": "text"
      },
      "source": [
        "## automake install error\n",
        "configure: error: no acceptable m4 could be found in $PATH.\n",
        "\n",
        "Glibc 2.9 - 2.12 and GNU M4 1.4.11 - 1.4.15 have another strstr bug.\n",
        "\n",
        "- install GNU M4 1.4.9\n",
        "\n",
        "- install autoconf-2.69\n",
        "\n"
      ]
    },
    {
      "cell_type": "code",
      "metadata": {
        "id": "QhHpNihFR5hD",
        "colab_type": "code",
        "colab": {}
      },
      "source": [
        "import os\n",
        "os.chdir('/tmp/')\n",
        "\n",
        " \n",
        "!wget -O m4-1.4.9.tar.gz http://ftp.gnu.org/gnu/m4/m4-1.4.9.tar.gz\n",
        "!tar -zvxf m4-1.4.9.tar.gz\n",
        "os.chdir('/tmp/m4-1.4.9')\n",
        "!./configure\n",
        "!make\n",
        "!make install\n",
        "\n",
        "os.chdir('/tmp')\n",
        "!curl -OL http://ftpmirror.gnu.org/autoconf/autoconf-2.69.tar.gz\n",
        "!tar xzf autoconf-2.69.tar.gz\n",
        "os.chdir('/tmp/autoconf-2.69')\n",
        "!./configure --prefix=/usr/local\n",
        "!make\n",
        "!make install\n",
        "!export PATH=/usr/local/bin\n",
        "\n"
      ],
      "execution_count": 0,
      "outputs": []
    },
    {
      "cell_type": "markdown",
      "metadata": {
        "id": "FmnvrVdwRTd8",
        "colab_type": "text"
      },
      "source": [
        "## install mecab-ko-dic\n",
        "[mecab-ko-dic 설치 문서](https://bitbucket.org/eunjeon/mecab-ko-dic)"
      ]
    },
    {
      "cell_type": "code",
      "metadata": {
        "id": "Z7PCBmGrsR4Y",
        "colab_type": "code",
        "colab": {}
      },
      "source": [
        "import os\n",
        "os.chdir('/tmp')\n",
        "!curl -LO https://bitbucket.org/eunjeon/mecab-ko-dic/downloads/mecab-ko-dic-2.0.1-20150920.tar.gz\n",
        "!tar -zxvf mecab-ko-dic-2.0.1-20150920.tar.gz\n",
        "os.chdir('/tmp/mecab-ko-dic-2.0.1-20150920')\n",
        "!./autogen.sh\n",
        "!./configure\n",
        "!make\n",
        "# !sh -c 'echo \"dicdir=/usr/local/lib/mecab/dic/mecab-ko-dic\" > /usr/local/etc/mecabrc'\n",
        "!make install\n",
        "\n"
      ],
      "execution_count": 0,
      "outputs": []
    },
    {
      "cell_type": "markdown",
      "metadata": {
        "id": "ncVsBHsykug-",
        "colab_type": "text"
      },
      "source": [
        "make: *** No targets specified and no makefile found.  Stop.\n",
        "\n",
        "make: *** No rule to make target 'install'.  Stop.\n",
        "\n",
        "Idconfig 를 실행\n",
        "\n",
        "done!\n",
        "echo To enable dictionary, rewrite /usr/local/etc/mecabrc as \\\"dicdir = /usr/local/lib/mecab/dic/mecab-ko-dic\\\"\n",
        "\n",
        "위 문구가 나오면 성공 install Mecab python을 실행"
      ]
    },
    {
      "cell_type": "markdown",
      "metadata": {
        "id": "GIydn0oeONmt",
        "colab_type": "text"
      },
      "source": [
        "## ldconfig\n",
        "libmecab.so.2를 찾을 수 없는 에러가 나는 경우\n",
        "\n",
        "실행 후 재시도 위로 올라가서 전체를 재시도 \n",
        "\n"
      ]
    },
    {
      "cell_type": "code",
      "metadata": {
        "id": "qs0rvn4p1EeE",
        "colab_type": "code",
        "colab": {}
      },
      "source": [
        "os.chdir('/tmp/mecab-ko-dic-2.0.1-20150920')\n",
        "!ldconfig\n",
        "!ldconfig -p | grep /usr/local/lib\n"
      ],
      "execution_count": 0,
      "outputs": []
    },
    {
      "cell_type": "markdown",
      "metadata": {
        "id": "csXIshqZN_Mi",
        "colab_type": "text"
      },
      "source": [
        "## install mecab-python\n",
        "python3 기준입니다."
      ]
    },
    {
      "cell_type": "code",
      "metadata": {
        "id": "ITq9SMVv3Dli",
        "colab_type": "code",
        "colab": {}
      },
      "source": [
        "# install mecab-python\n",
        "import os\n",
        "os.chdir('/content')\n",
        "\n",
        "!git clone https://bitbucket.org/eunjeon/mecab-python-0.996.git\n",
        "os.chdir('/content/mecab-python-0.996')\n",
        "\n",
        "!python3 setup.py build\n",
        "!python3 setup.py install\n"
      ],
      "execution_count": 0,
      "outputs": []
    },
    {
      "cell_type": "markdown",
      "metadata": {
        "id": "qaUf2aSAzZgX",
        "colab_type": "text"
      },
      "source": [
        "running install_egg_info\n",
        "\n",
        "Writing /usr/local/lib/python3.6/dist-packages/mecab_python-0.996_ko_0.9.0.egg-info\n",
        "\n",
        "위 문구가 나오면 Mecab 설치 완료 "
      ]
    },
    {
      "cell_type": "code",
      "metadata": {
        "id": "dXYHFavW8AsE",
        "colab_type": "code",
        "colab": {}
      },
      "source": [
        "from konlpy.tag import Okt, Komoran, Hannanum, Kkma , Mecab\n",
        "\n",
        "\n",
        "\n",
        "okt = Okt()\n",
        "komoran = Komoran()\n",
        "hannanum = Hannanum()\n",
        "kkma = Kkma()\n",
        "mecab = Mecab()\n",
        "\n",
        "\n",
        "tagger = Mecab()\n",
        "tagger = tagger.morphs"
      ],
      "execution_count": 0,
      "outputs": []
    },
    {
      "cell_type": "code",
      "metadata": {
        "id": "Fgw0TlMAHyGN",
        "colab_type": "code",
        "colab": {}
      },
      "source": [
        "import torch\n",
        "from torchtext import data\n",
        "from torchtext import datasets\n",
        "\n",
        "SEED = 1234\n",
        "\n",
        "torch.manual_seed(SEED)\n",
        "\n",
        "DOCUMENT = data.Field(tokenize = tagger ,include_lengths = False)\n",
        "LABEL = data.LabelField(dtype = torch.float)\n"
      ],
      "execution_count": 0,
      "outputs": []
    },
    {
      "cell_type": "code",
      "metadata": {
        "id": "x4Ku1ojxHyGV",
        "colab_type": "code",
        "colab": {}
      },
      "source": [
        "fields = {'document':('document',DOCUMENT),'label':('label', LABEL) }\n",
        "#fields = [('id', None),('document',DOCUMENT),('label', LABEL) ]  데이터 나눌떄 skip_header = True"
      ],
      "execution_count": 0,
      "outputs": []
    },
    {
      "cell_type": "code",
      "metadata": {
        "id": "pMTNmPRpHyGc",
        "colab_type": "code",
        "outputId": "6e867a98-7cfb-4f25-eeb4-a0010d480318",
        "colab": {
          "base_uri": "https://localhost:8080/",
          "height": 73
        }
      },
      "source": [
        "train_data, test_data = data.TabularDataset.splits(\n",
        "                            path = '/content/gdrive/My Drive/naver_movie_review',  \n",
        "                            train = \"ratings_train.txt\",\n",
        "                            test =  \"ratings_test.txt\",\n",
        "                            format = 'tsv',\n",
        "                            fields = fields,\n",
        "                            #skip_header = True\n",
        "                            \n",
        ")\n",
        "\n",
        "print(f'Number of training examples: {len(train_data)}')\n",
        "print(f'Number of testing examples: {len(test_data)}')\n",
        "print(vars(train_data[2]))"
      ],
      "execution_count": 28,
      "outputs": [
        {
          "output_type": "stream",
          "text": [
            "Number of training examples: 150000\n",
            "Number of testing examples: 50000\n",
            "{'document': ['너무', '재', '밓었', '다', '그래서', '보', '는', '것', '을', '추천', '한다'], 'label': '0'}\n"
          ],
          "name": "stdout"
        }
      ]
    },
    {
      "cell_type": "code",
      "metadata": {
        "id": "gTyUhWegrGBW",
        "colab_type": "code",
        "outputId": "9fb1b758-981f-4603-f7ff-206b8f5cb5ce",
        "colab": {
          "base_uri": "https://localhost:8080/",
          "height": 110
        }
      },
      "source": [
        "print(okt.morphs('okt: 너무재밓었다그래서보는것을추천한다'))\n",
        "print(komoran.morphs('komoran: 너무재밓었다그래서보는것을추천한다'))\n",
        "print(hannanum.morphs('hannanum: 너무재밓었다그래서보는것을추천한다'))\n",
        "print(kkma.morphs('kkma: 너무재밓었다그래서보는것을추천한다'))\n",
        "print(mecab.morphs('mecab: 너무재밓었다그래서보는것을추천한다'))\n"
      ],
      "execution_count": 29,
      "outputs": [
        {
          "output_type": "stream",
          "text": [
            "['okt', ':', '너', '무재', '밓었', '다그', '래서', '보는것을', '추천', '한', '다']\n",
            "['komoran', ':', '너무재밓었다그래서보는것을추천한다']\n",
            "['hannanum', ':', '너무재밓었다그래서보는것을추천한다']\n",
            "['kkma', ':', '너무', '재', '밓', '어', '었', '다', '그래서', '보', '는', '것', '을', '추천', '하', 'ㄴ다']\n",
            "['mecab', ':', '너무', '재', '밓었', '다', '그래서', '보', '는', '것', '을', '추천', '한다']\n"
          ],
          "name": "stdout"
        }
      ]
    },
    {
      "cell_type": "code",
      "metadata": {
        "id": "vuDMDQAziRaG",
        "colab_type": "code",
        "outputId": "41a7ed8b-3427-4d3f-e14a-22e0490c4cc2",
        "colab": {
          "base_uri": "https://localhost:8080/",
          "height": 73
        }
      },
      "source": [
        "import random\n",
        "train_data, valid_data = train_data.split(random_state = random.seed(SEED))\n",
        "print(len(train_data))\n",
        "print(len(valid_data))\n",
        "print(len(test_data))"
      ],
      "execution_count": 30,
      "outputs": [
        {
          "output_type": "stream",
          "text": [
            "105000\n",
            "45000\n",
            "50000\n"
          ],
          "name": "stdout"
        }
      ]
    },
    {
      "cell_type": "code",
      "metadata": {
        "id": "H3GhJhKBim6u",
        "colab_type": "code",
        "colab": {}
      },
      "source": [
        "from torchtext.vocab import Vectors\n",
        "\n",
        "\n",
        "MAX_VOCAB_SIZE = 45000\n",
        "\n",
        "ko_vectors = Vectors(name ='ko.vec',cache ='/content/gdrive/My Drive/word2vec')\n",
        "\n",
        "DOCUMENT.build_vocab(train_data, \n",
        "                     max_size = MAX_VOCAB_SIZE,\n",
        "                     vectors = ko_vectors,\n",
        "                     unk_init = torch.Tensor.normal_)\n",
        "LABEL.build_vocab(train_data)"
      ],
      "execution_count": 0,
      "outputs": []
    },
    {
      "cell_type": "code",
      "metadata": {
        "id": "FABLGDZdRdLi",
        "colab_type": "code",
        "outputId": "c056d81b-7a76-4260-8a27-9210e499c9c0",
        "colab": {
          "base_uri": "https://localhost:8080/",
          "height": 36
        }
      },
      "source": [
        "print(LABEL.vocab.stoi)"
      ],
      "execution_count": 32,
      "outputs": [
        {
          "output_type": "stream",
          "text": [
            "defaultdict(<function _default_unk_index at 0x7f7273288950>, {'0': 0, '1': 1})\n"
          ],
          "name": "stdout"
        }
      ]
    },
    {
      "cell_type": "code",
      "metadata": {
        "id": "tjvk7DHzjBi1",
        "colab_type": "code",
        "colab": {}
      },
      "source": [
        "BATCH_SIZE = 50\n",
        "device = torch.device('cuda' if torch.cuda.is_available() else 'cpu')\n",
        "train_iterator,valid_iterator,test_iterator = data.BucketIterator.splits((train_data,valid_data,test_data),\n",
        "                                                                                   batch_size = BATCH_SIZE,\n",
        "                                                                                   sort = False,\n",
        "                                                                                   device = device\n",
        "                                                                                   )\n",
        "\n"
      ],
      "execution_count": 0,
      "outputs": []
    },
    {
      "cell_type": "code",
      "metadata": {
        "id": "LtscB9u5jsiV",
        "colab_type": "code",
        "colab": {}
      },
      "source": [
        "import torch.nn as nn\n",
        "import torch.nn.functional as F\n",
        "class RNN(nn.Module):\n",
        "  def __init__(self, input_dim, embedding_dim, hidden_dim, output_dim):\n",
        "    super().__init__()\n",
        "    self.embedding = nn.Embedding(input_dim, embedding_dim)\n",
        "    self.rnn = nn.RNN(embedding_dim, hidden_dim)\n",
        "    self.fc = nn.Linear(hidden_dim, output_dim)\n",
        "\n",
        "  def forward(self,text):\n",
        "    #text = [sent len, batch_size]\n",
        "    embedded = self.embedding(text)\n",
        "    #embedded = [sent len. batch size, emb dim]\n",
        "    output, hidden = self.rnn(embedded)\n",
        "\n",
        "    #output = [sent len, batch size, hid dim]\n",
        "    #hidden = [1, batch size, hid dim]\n",
        "    assert torch.equal(output[-1,:,:],hidden.squeeze(0))\n",
        "    return self.fc(hidden.squeeze(0))"
      ],
      "execution_count": 0,
      "outputs": []
    },
    {
      "cell_type": "code",
      "metadata": {
        "id": "fZVBPbOJk657",
        "colab_type": "code",
        "outputId": "8f92f436-c168-40b7-c6ad-1b8a4994d26e",
        "colab": {
          "base_uri": "https://localhost:8080/",
          "height": 54
        }
      },
      "source": [
        "INPUT_DIM = len(DOCUMENT.vocab)\n",
        "EMBEDDING_DIM = 200\n",
        "HIDDEN_DIM = 512\n",
        "OUTPUT_DIM = 1\n",
        "\n",
        "print(INPUT_DIM)\n",
        "print(OUTPUT_DIM)"
      ],
      "execution_count": 35,
      "outputs": [
        {
          "output_type": "stream",
          "text": [
            "45002\n",
            "1\n"
          ],
          "name": "stdout"
        }
      ]
    },
    {
      "cell_type": "code",
      "metadata": {
        "id": "l1s3UApvlG6B",
        "colab_type": "code",
        "colab": {}
      },
      "source": [
        "model = RNN(INPUT_DIM, EMBEDDING_DIM, HIDDEN_DIM,OUTPUT_DIM)\n",
        "model = model.to(device)\n"
      ],
      "execution_count": 0,
      "outputs": []
    },
    {
      "cell_type": "code",
      "metadata": {
        "id": "wj3uSmLwlcFe",
        "colab_type": "code",
        "colab": {}
      },
      "source": [
        "import torch.optim as optim\n",
        "\n",
        "optimizer = optim.Adam(model.parameters(), lr = 0.001)\n",
        "criterion = nn.BCEWithLogitsLoss()\n",
        "criterion = criterion.to(device)"
      ],
      "execution_count": 0,
      "outputs": []
    },
    {
      "cell_type": "code",
      "metadata": {
        "id": "1CHQ42zhm5Vj",
        "colab_type": "code",
        "colab": {}
      },
      "source": [
        "def binary_accuracy(preds, y):\n",
        "  \"\"\"\n",
        "  returns accuracy per batch, i.e, if you get 8/10 right, this returns 0.8, NOT 8\n",
        "\n",
        "  \"\"\"\n",
        "\n",
        "  #round predictions to the closet interger\n",
        "  rounded_preds = torch.round(torch.sigmoid(preds))\n",
        "  correct = (rounded_preds == y).float() #conver into float for division\n",
        "  acc = correct.sum()/ len(correct)\n",
        "  return acc"
      ],
      "execution_count": 0,
      "outputs": []
    },
    {
      "cell_type": "code",
      "metadata": {
        "id": "UUeeqlYZw9z5",
        "colab_type": "code",
        "colab": {}
      },
      "source": [
        "def train(model, iterator, optimizer,criterion):\n",
        "\n",
        "   epoch_loss = 0\n",
        "   epoch_acc = 0 \n",
        "   model.train()\n",
        "   \n",
        "  \n",
        "  \n",
        " \n",
        "   for batch in iterator:\n",
        "       optimizer.zero_grad()\n",
        "       predictions = model(batch.document).squeeze(1)\n",
        "       loss = criterion(predictions, batch.label)\n",
        "       acc = binary_accuracy(predictions, batch.label)\n",
        "       loss.backward()\n",
        "       optimizer.step()\n",
        "\n",
        "       epoch_loss += loss.item()\n",
        "       epoch_acc += acc.item()\n",
        "\n",
        "   return epoch_loss / len(iterator), epoch_acc/len(iterator)"
      ],
      "execution_count": 0,
      "outputs": []
    },
    {
      "cell_type": "code",
      "metadata": {
        "id": "g7ZPP1XSofVr",
        "colab_type": "code",
        "colab": {}
      },
      "source": [
        "def evaluate(model,iterator, criterion):\n",
        "\n",
        "  epoch_loss = 0\n",
        "  epoch_acc = 0 \n",
        "  model.eval()\n",
        "\n",
        "  with torch.no_grad():\n",
        "    for batch in iterator:\n",
        "      \n",
        "\n",
        "      predictions = model(batch.document).squeeze(1)\n",
        "      loss = criterion(predictions,batch.label)\n",
        "      acc = binary_accuracy(predictions, batch.label)\n",
        "\n",
        "      epoch_loss += loss.item()\n",
        "      epoch_acc += acc.item()\n",
        "\n",
        "  return epoch_loss / len(iterator), epoch_acc/len(iterator)"
      ],
      "execution_count": 0,
      "outputs": []
    },
    {
      "cell_type": "code",
      "metadata": {
        "id": "A4kIve3iqN8P",
        "colab_type": "code",
        "colab": {}
      },
      "source": [
        "import time \n",
        "\n",
        "def epoch_time(start_time, end_time):\n",
        "  elapsed_time = end_time - start_time\n",
        "  elapsed_mins = int(elapsed_time/60)\n",
        "  elapsed_secs = int(elapsed_time - (elapsed_mins * 60))\n",
        "  return elapsed_mins, elapsed_secs"
      ],
      "execution_count": 0,
      "outputs": []
    },
    {
      "cell_type": "code",
      "metadata": {
        "id": "aI-B3HityRzn",
        "colab_type": "code",
        "outputId": "1e7b6fce-06b0-4f98-9a34-2e8e14d53025",
        "colab": {
          "base_uri": "https://localhost:8080/",
          "height": 296
        }
      },
      "source": [
        "N_EPOCHS = 5\n",
        "\n",
        "best_valid_loss = float('inf')\n",
        "\n",
        "for epoch in range(N_EPOCHS):\n",
        "\n",
        "    start_time = time.time()\n",
        "    \n",
        "    train_loss, train_acc = train(model, train_iterator, optimizer, criterion)\n",
        "    valid_loss, valid_acc = evaluate(model, valid_iterator, criterion)\n",
        "    \n",
        "    end_time = time.time()\n",
        "\n",
        "    epoch_mins, epoch_secs = epoch_time(start_time, end_time)\n",
        "    \n",
        "    if valid_loss < best_valid_loss:\n",
        "         best_valid_loss = valid_loss\n",
        "         torch.save(model.state_dict(), 'tut2-model.pt')\n",
        "    \n",
        "    print(f'Epoch: {epoch+1:02} | Epoch Time: {epoch_mins}m {epoch_secs}s')\n",
        "    print(f'\\tTrain Loss: {train_loss:.3f} | Train Acc: {train_acc*100:.2f}%')\n",
        "    print(f'\\t Val. Loss: {valid_loss:.3f} |  Val. Acc: {valid_acc*100:.2f}%')"
      ],
      "execution_count": 42,
      "outputs": [
        {
          "output_type": "stream",
          "text": [
            "Epoch: 01 | Epoch Time: 0m 53s\n",
            "\tTrain Loss: 0.700 | Train Acc: 50.25%\n",
            "\t Val. Loss: 0.704 |  Val. Acc: 50.56%\n",
            "Epoch: 02 | Epoch Time: 0m 54s\n",
            "\tTrain Loss: 0.701 | Train Acc: 50.05%\n",
            "\t Val. Loss: 0.725 |  Val. Acc: 49.47%\n",
            "Epoch: 03 | Epoch Time: 0m 54s\n",
            "\tTrain Loss: 0.702 | Train Acc: 49.96%\n",
            "\t Val. Loss: 0.696 |  Val. Acc: 50.12%\n",
            "Epoch: 04 | Epoch Time: 0m 53s\n",
            "\tTrain Loss: 0.701 | Train Acc: 50.23%\n",
            "\t Val. Loss: 0.694 |  Val. Acc: 50.26%\n",
            "Epoch: 05 | Epoch Time: 0m 53s\n",
            "\tTrain Loss: 0.699 | Train Acc: 49.94%\n",
            "\t Val. Loss: 0.695 |  Val. Acc: 49.80%\n"
          ],
          "name": "stdout"
        }
      ]
    },
    {
      "cell_type": "code",
      "metadata": {
        "id": "vaWuFpGCZNOF",
        "colab_type": "code",
        "outputId": "8d70dfc2-d7d1-466e-98b2-5bc353ababf7",
        "colab": {
          "base_uri": "https://localhost:8080/",
          "height": 36
        }
      },
      "source": [
        "model.load_state_dict(torch.load('tut2-model.pt'))\n",
        "\n",
        "test_loss, test_acc =evaluate(model, test_iterator, criterion)\n",
        "\n",
        "print(f'Test Loss: {test_loss:.3f} | Test Acc: {test_acc*100:.2f}%')"
      ],
      "execution_count": 43,
      "outputs": [
        {
          "output_type": "stream",
          "text": [
            "Test Loss: 0.695 | Test Acc: 49.58%\n"
          ],
          "name": "stdout"
        }
      ]
    }
  ]
}